{
 "cells": [
  {
   "cell_type": "markdown",
   "id": "4a41e65f-355e-4af9-b00b-c90d63c97ac8",
   "metadata": {},
   "source": [
    "# Getting features as structured data from tiled segmentation data"
   ]
  },
  {
   "cell_type": "code",
   "execution_count": 2,
   "id": "22d3fc12-32e6-48aa-9582-f4051e99b62d",
   "metadata": {},
   "outputs": [],
   "source": [
    "from Cells import Cells\n",
    "from MGFeatures import *"
   ]
  },
  {
   "cell_type": "code",
   "execution_count": null,
   "id": "f093d867-b6eb-4d14-b05b-7d538d8ce2ad",
   "metadata": {},
   "outputs": [],
   "source": [
    "folder = r'D:\\Hanyi temp\\MG\\cell-png'\n",
    "\n",
    "cell5 = Cells(5)\n",
    "imageshape = cell5.get_imageshape(folder)\n",
    "cell5_image = cell5.img_from_tiles(folder)\n",
    "cell5_labels = cell5.label_cells(cell5_image)\n",
    "cell5_bboxes = cell5.get_bbox(cell5_labels)"
   ]
  },
  {
   "cell_type": "code",
   "execution_count": null,
   "id": "24ddd921-53b6-45a6-8789-41e63fbba5e4",
   "metadata": {},
   "outputs": [],
   "source": [
    "heterochromatin_folder = r'X:\\Hanyi\\MG\\heterochromatin'\n",
    "lipids_folder = r'X:\\Hanyi\\MG\\lipids'\n",
    "lysosomes_folder = r'X:\\Hanyi\\MG\\lysosomes'\n",
    "mitochondria_folder = r'X:\\Hanyi\\MG\\mitochondria'\n",
    "nucleus_folder = r'X:\\Hanyi\\MG\\nucleus'\n",
    "organelles_folder = r'X:\\Hanyi\\MG\\organelles_cyto'\n",
    "ER_folder = r'X:\\Hanyi\\MG\\ER'\n",
    "\n",
    "\n",
    "def make_properties(i):\n",
    "    properties = {}\n",
    "    \n",
    "    # label cells\n",
    "    cell = Cells(i)\n",
    "    imageshape = cell.get_imageshape(folder) #TODO: this step is redundant! Fix in cells\n",
    "    cell_image = cell.img_from_tiles(folder)\n",
    "    cell_labels = cell.label_cells(cell_image)\n",
    "    cell_bboxes = cell.get_bbox(cell_labels)\n",
    "    \n",
    "    \n",
    "    # label organelles\n",
    "    heterochromatin_labels = mask_it(cell_labels, cell.img_from_tiles(heterochromatin_folder))\n",
    "    lipids_labels = mask_it(cell_labels, cell.img_from_tiles(lipids_folder))\n",
    "    lysosomes_labels = mask_it(cell_labels, cell.img_from_tiles(lysosomes_folder))\n",
    "    mitochondria_labels = mask_it(cell_labels, cell.img_from_tiles(mitochondria_folder))\n",
    "    nucleus_labels = mask_it(cell_labels, cell.img_from_tiles(nucleus_folder))\n",
    "    organelles_labels = mask_it(cell_labels, cell.img_from_tiles(organelles_folder))\n",
    "    ER = cell.img_from_tiles(ER_folder)\n",
    "    \n",
    "    \n",
    "    # calc properties\n",
    "    labels_list = np.unique(cell_labels)[1:]\n",
    "\n",
    "    properties['cell_area'] = get_area(cell_labels, labels_list)\n",
    "    properties['organelles_area'] = get_area(organelles_labels, labels_list)\n",
    "    properties['nucleus_area'] = get_area(nucleus_labels, labels_list)\n",
    "    properties['heterochromatin_area'] = get_area(heterochromatin_labels, labels_list)\n",
    "    properties['lipids_area'] = get_area(lipids_labels, labels_list)\n",
    "    properties['mitochondria_area'] = get_area(mitochondria_labels, labels_list)\n",
    "    properties['lysosomal_area'] = get_area(lysosomes_labels, labels_list)\n",
    "    \n",
    "    properties['empty_area'] = properties['cell_area'] - properties['nucleus_area'] - properties['organelles_area']\n",
    "    properties['cytoplasm_area'] = properties['cell_area'] - properties['nucleus_area']\n",
    "    \n",
    "    properties['ER_lengths'] = ER_length(ER, cell_labels)\n",
    "    \n",
    "    properties['sl_num'] = np.array([i]*len(labels_list))\n",
    "    \n",
    "    properties['bbox_rects'] = cell_bboxes\n",
    "    \n",
    "    return properties"
   ]
  },
  {
   "cell_type": "code",
   "execution_count": null,
   "id": "dac5ca3a-42e8-4ea0-b766-892518542c20",
   "metadata": {},
   "outputs": [],
   "source": [
    "nslices = 17\n",
    "properties = Parallel(n_jobs=nslices, verbose=True)(delayed(make_properties)(i) for i in range(nslices))\n",
    "features = [pd.DataFrame.from_dict(properties[i]) for i in range(nslices)]\n",
    "_featuresall = pd.concat([features], ignore_index=True)\n",
    "_featuresall.to_excel('featuresraw_v05.xlsx', index=False)"
   ]
  }
 ],
 "metadata": {
  "kernelspec": {
   "display_name": "Python 3 (ipykernel)",
   "language": "python",
   "name": "python3"
  },
  "language_info": {
   "codemirror_mode": {
    "name": "ipython",
    "version": 3
   },
   "file_extension": ".py",
   "mimetype": "text/x-python",
   "name": "python",
   "nbconvert_exporter": "python",
   "pygments_lexer": "ipython3",
   "version": "3.10.8"
  }
 },
 "nbformat": 4,
 "nbformat_minor": 5
}
